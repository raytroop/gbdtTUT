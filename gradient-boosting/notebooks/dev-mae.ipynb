{
 "cells": [
  {
   "cell_type": "code",
   "execution_count": 1,
   "metadata": {},
   "outputs": [],
   "source": [
    "from support import *"
   ]
  },
  {
   "cell_type": "code",
   "execution_count": 2,
   "metadata": {},
   "outputs": [
    {
     "data": {
      "text/html": [
       "<div>\n",
       "<style scoped>\n",
       "    .dataframe tbody tr th:only-of-type {\n",
       "        vertical-align: middle;\n",
       "    }\n",
       "\n",
       "    .dataframe tbody tr th {\n",
       "        vertical-align: top;\n",
       "    }\n",
       "\n",
       "    .dataframe thead th {\n",
       "        text-align: right;\n",
       "    }\n",
       "</style>\n",
       "<table border=\"1\" class=\"dataframe\">\n",
       "  <thead>\n",
       "    <tr style=\"text-align: right;\">\n",
       "      <th></th>\n",
       "      <th>sqfeet</th>\n",
       "      <th>rent</th>\n",
       "    </tr>\n",
       "  </thead>\n",
       "  <tbody>\n",
       "    <tr>\n",
       "      <th>0</th>\n",
       "      <td>750</td>\n",
       "      <td>1160</td>\n",
       "    </tr>\n",
       "    <tr>\n",
       "      <th>1</th>\n",
       "      <td>800</td>\n",
       "      <td>1200</td>\n",
       "    </tr>\n",
       "    <tr>\n",
       "      <th>2</th>\n",
       "      <td>850</td>\n",
       "      <td>1280</td>\n",
       "    </tr>\n",
       "    <tr>\n",
       "      <th>3</th>\n",
       "      <td>900</td>\n",
       "      <td>1450</td>\n",
       "    </tr>\n",
       "    <tr>\n",
       "      <th>4</th>\n",
       "      <td>950</td>\n",
       "      <td>2000</td>\n",
       "    </tr>\n",
       "  </tbody>\n",
       "</table>\n",
       "</div>"
      ],
      "text/plain": [
       "   sqfeet  rent\n",
       "0     750  1160\n",
       "1     800  1200\n",
       "2     850  1280\n",
       "3     900  1450\n",
       "4     950  2000"
      ]
     },
     "execution_count": 2,
     "metadata": {},
     "output_type": "execute_result"
    }
   ],
   "source": [
    "df = data()\n",
    "df"
   ]
  },
  {
   "cell_type": "markdown",
   "metadata": {},
   "source": [
    "## Train tree using sign vector"
   ]
  },
  {
   "cell_type": "code",
   "execution_count": 3,
   "metadata": {},
   "outputs": [
    {
     "name": "stdout",
     "output_type": "stream",
     "text": [
      "Splits [825.0, 775.0, 925.0]\n",
      "[113620.0, 66440.0, 64840.0, 6180.0]\n",
      "[218.0, 152.0, 148.0, 40.0]\n"
     ]
    },
    {
     "data": {
      "text/html": [
       "<div>\n",
       "<style scoped>\n",
       "    .dataframe tbody tr th:only-of-type {\n",
       "        vertical-align: middle;\n",
       "    }\n",
       "\n",
       "    .dataframe tbody tr th {\n",
       "        vertical-align: top;\n",
       "    }\n",
       "\n",
       "    .dataframe thead th {\n",
       "        text-align: right;\n",
       "    }\n",
       "</style>\n",
       "<table border=\"1\" class=\"dataframe\">\n",
       "  <thead>\n",
       "    <tr style=\"text-align: right;\">\n",
       "      <th></th>\n",
       "      <th>sqfeet</th>\n",
       "      <th>rent</th>\n",
       "      <th>F0</th>\n",
       "      <th>res1</th>\n",
       "      <th>sign1</th>\n",
       "      <th>delta1</th>\n",
       "      <th>F1</th>\n",
       "      <th>res2</th>\n",
       "      <th>sign2</th>\n",
       "      <th>delta2</th>\n",
       "      <th>F2</th>\n",
       "      <th>res3</th>\n",
       "      <th>sign3</th>\n",
       "      <th>delta3</th>\n",
       "      <th>F3</th>\n",
       "    </tr>\n",
       "  </thead>\n",
       "  <tbody>\n",
       "    <tr>\n",
       "      <th>0</th>\n",
       "      <td>750</td>\n",
       "      <td>1160</td>\n",
       "      <td>1280.0</td>\n",
       "      <td>-120.0</td>\n",
       "      <td>-1.0</td>\n",
       "      <td>-100.0</td>\n",
       "      <td>1180.0</td>\n",
       "      <td>-20.0</td>\n",
       "      <td>-1.0</td>\n",
       "      <td>-20.0</td>\n",
       "      <td>1160.0</td>\n",
       "      <td>0.0</td>\n",
       "      <td>0.0</td>\n",
       "      <td>-5.0</td>\n",
       "      <td>1155.0</td>\n",
       "    </tr>\n",
       "    <tr>\n",
       "      <th>1</th>\n",
       "      <td>800</td>\n",
       "      <td>1200</td>\n",
       "      <td>1280.0</td>\n",
       "      <td>-80.0</td>\n",
       "      <td>-1.0</td>\n",
       "      <td>-100.0</td>\n",
       "      <td>1180.0</td>\n",
       "      <td>20.0</td>\n",
       "      <td>1.0</td>\n",
       "      <td>10.0</td>\n",
       "      <td>1190.0</td>\n",
       "      <td>10.0</td>\n",
       "      <td>1.0</td>\n",
       "      <td>-5.0</td>\n",
       "      <td>1185.0</td>\n",
       "    </tr>\n",
       "    <tr>\n",
       "      <th>2</th>\n",
       "      <td>850</td>\n",
       "      <td>1280</td>\n",
       "      <td>1280.0</td>\n",
       "      <td>0.0</td>\n",
       "      <td>0.0</td>\n",
       "      <td>170.0</td>\n",
       "      <td>1450.0</td>\n",
       "      <td>-170.0</td>\n",
       "      <td>-1.0</td>\n",
       "      <td>10.0</td>\n",
       "      <td>1460.0</td>\n",
       "      <td>-180.0</td>\n",
       "      <td>-1.0</td>\n",
       "      <td>-5.0</td>\n",
       "      <td>1455.0</td>\n",
       "    </tr>\n",
       "    <tr>\n",
       "      <th>3</th>\n",
       "      <td>900</td>\n",
       "      <td>1450</td>\n",
       "      <td>1280.0</td>\n",
       "      <td>170.0</td>\n",
       "      <td>1.0</td>\n",
       "      <td>170.0</td>\n",
       "      <td>1450.0</td>\n",
       "      <td>0.0</td>\n",
       "      <td>0.0</td>\n",
       "      <td>10.0</td>\n",
       "      <td>1460.0</td>\n",
       "      <td>-10.0</td>\n",
       "      <td>-1.0</td>\n",
       "      <td>-5.0</td>\n",
       "      <td>1455.0</td>\n",
       "    </tr>\n",
       "    <tr>\n",
       "      <th>4</th>\n",
       "      <td>950</td>\n",
       "      <td>2000</td>\n",
       "      <td>1280.0</td>\n",
       "      <td>720.0</td>\n",
       "      <td>1.0</td>\n",
       "      <td>170.0</td>\n",
       "      <td>1450.0</td>\n",
       "      <td>550.0</td>\n",
       "      <td>1.0</td>\n",
       "      <td>10.0</td>\n",
       "      <td>1460.0</td>\n",
       "      <td>540.0</td>\n",
       "      <td>1.0</td>\n",
       "      <td>540.0</td>\n",
       "      <td>2000.0</td>\n",
       "    </tr>\n",
       "  </tbody>\n",
       "</table>\n",
       "</div>"
      ],
      "text/plain": [
       "   sqfeet  rent      F0   res1  sign1  delta1      F1   res2  sign2  delta2  \\\n",
       "0     750  1160  1280.0 -120.0   -1.0  -100.0  1180.0  -20.0   -1.0   -20.0   \n",
       "1     800  1200  1280.0  -80.0   -1.0  -100.0  1180.0   20.0    1.0    10.0   \n",
       "2     850  1280  1280.0    0.0    0.0   170.0  1450.0 -170.0   -1.0    10.0   \n",
       "3     900  1450  1280.0  170.0    1.0   170.0  1450.0    0.0    0.0    10.0   \n",
       "4     950  2000  1280.0  720.0    1.0   170.0  1450.0  550.0    1.0    10.0   \n",
       "\n",
       "       F2   res3  sign3  delta3      F3  \n",
       "0  1160.0    0.0    0.0    -5.0  1155.0  \n",
       "1  1190.0   10.0    1.0    -5.0  1185.0  \n",
       "2  1460.0 -180.0   -1.0    -5.0  1455.0  \n",
       "3  1460.0  -10.0   -1.0    -5.0  1455.0  \n",
       "4  1460.0  540.0    1.0   540.0  2000.0  "
      ]
     },
     "execution_count": 3,
     "metadata": {},
     "output_type": "execute_result"
    }
   ],
   "source": [
    "M = 3\n",
    "eta = 1\n",
    "gbm = l1boost(df, 'rent', eta, M)\n",
    "splits = gbm.splits()\n",
    "print(\"Splits\", splits)\n",
    "\n",
    "mse = [mean_squared_error(df.rent, df['F'+str(s)]) for s in range(M+1)]\n",
    "mae = [mean_absolute_error(df.rent, df['F'+str(s)]) for s in range(M+1)]\n",
    "print(mse)\n",
    "print(mae)\n",
    "df"
   ]
  },
  {
   "cell_type": "code",
   "execution_count": 4,
   "metadata": {},
   "outputs": [
    {
     "name": "stdout",
     "output_type": "stream",
     "text": [
      "Tree 0: split @ 825.0; [-120.  -80.] | [  0. 170. 720.]\n",
      "Tree 1: split @ 775.0; [-20.] | [  20. -170.    0.  550.]\n",
      "Tree 2: split @ 925.0; [   0.   10. -180.  -10.] | [540.]\n",
      "\n"
     ]
    }
   ],
   "source": [
    "print(gbm)"
   ]
  },
  {
   "cell_type": "code",
   "execution_count": 5,
   "metadata": {},
   "outputs": [
    {
     "name": "stdout",
     "output_type": "stream",
     "text": [
      "750 & 1160 & 1280 & -120 & -1\\\\\n",
      "800 & 1200 & 1280 & -80 & -1\\\\\n",
      "850 & 1280 & 1280 & 0 & 0\\\\\n",
      "900 & 1450 & 1280 & 170 & 1\\\\\n",
      "950 & 2000 & 1280 & 720 & 1\\\\\n",
      "-100 & 1180 & -20 & -1 & -20 & 1160 & 0 & 0 & -5 & 1155\\\\\n",
      "-100 & 1180 & 20 & 1 & 10 & 1190 & 10 & 1 & -5 & 1185\\\\\n",
      "170 & 1450 & -170 & -1 & 10 & 1460 & -180 & -1 & -5 & 1455\\\\\n",
      "170 & 1450 & 0 & 0 & 10 & 1460 & -10 & -1 & -5 & 1455\\\\\n",
      "170 & 1450 & 550 & 1 & 10 & 1460 & 540 & 1 & 540 & 2000\\\\\n",
      "\n"
     ]
    }
   ],
   "source": [
    "o = \"\"\n",
    "for i in range(len(df)):\n",
    "    o += \" & \".join([f\"{v:.2f}\" for v in df.iloc[i,:][['sqfeet','rent','F0','res1','sign1']]]) + \"\\\\\\\\\" + \"\\n\"\n",
    "\n",
    "#F = df[['sqfeet','rent',F0','F1','F2','F3']]\n",
    "for i in range(len(df)):\n",
    "    o += \" & \".join([f\"{v:.2f}\" for v in df.iloc[i,:][['delta1','F1','res2','sign2','delta2','F2','res3','sign3','delta3','F3']]]) + r\"\\\\\" + \"\\n\"\n",
    "\n",
    "o = o.replace(\".00\", \"\")\n",
    "print(o)"
   ]
  },
  {
   "cell_type": "markdown",
   "metadata": {},
   "source": [
    "## Plot F0 vs rent and show sign vectors"
   ]
  },
  {
   "cell_type": "code",
   "execution_count": 6,
   "metadata": {},
   "outputs": [
    {
     "data": {
      "image/png": "[encoded data removed]",
      "text/plain": [
       "<Figure size 288x252 with 1 Axes>"
      ]
     },
     "metadata": {},
     "output_type": "display_data"
    }
   ],
   "source": [
    "f0 = df.rent.median()\n",
    "fig, axes = plt.subplots(nrows=1, ncols=1, figsize=(4, 3.5), sharey=True)\n",
    "\n",
    "ax = axes\n",
    "line1, = ax.plot(df.sqfeet,df.rent,'o', linewidth=.8, markersize=4, label=\"$y$\")\n",
    "# fake a line to get smaller red dot\n",
    "line2, = ax.plot([0,0],[0,0], c='r', markersize=4, label=r\"$sign(y-f_0({\\bf x}))$\", linewidth=.8)\n",
    "ax.plot([df.sqfeet.min()-10,df.sqfeet.max()+10], [f0,f0],\n",
    "         linewidth=.8, linestyle='--', c='k')\n",
    "ax.set_xlim(df.sqfeet.min()-10,df.sqfeet.max()+10)\n",
    "ax.set_ylim(df.rent.min()-30, df.rent.max()+30)\n",
    "ax.text(830, f0-80, r\"$f_0({\\bf x})$\", fontsize=18)\n",
    "\n",
    "ax.set_ylabel(r\"Rent ($y$)\", fontsize=14)\n",
    "ax.set_xlabel(r\"SqFeet (${\\bf x}$)\", fontsize=14)\n",
    "\n",
    "# draw arrows\n",
    "for x,y,yhat in zip(df.sqfeet,df.rent,df.F0):\n",
    "    if np.sign(y-yhat)==0:\n",
    "        # draw up/down to get X on 0\n",
    "        draw_vector(ax, x, yhat, 0, -2, df.rent.max()-df.rent.min())\n",
    "        draw_vector(ax, x, yhat, 0, 2, df.rent.max()-df.rent.min())\n",
    "    else:\n",
    "        draw_vector(ax, x, yhat, 0, np.sign(y-yhat)*2, df.rent.max()-df.rent.min())\n",
    "    \n",
    "ax.legend(handles=[line2], fontsize=16,\n",
    "          loc='upper left', \n",
    "          labelspacing=.1,\n",
    "          handletextpad=.2,\n",
    "          handlelength=.7,\n",
    "          frameon=True)\n",
    "\n",
    "plt.tight_layout()\n",
    "plt.show()"
   ]
  },
  {
   "cell_type": "markdown",
   "metadata": {},
   "source": [
    "## Show global weight not per leaf"
   ]
  },
  {
   "cell_type": "code",
   "execution_count": 7,
   "metadata": {},
   "outputs": [
    {
     "data": {
      "image/png": "[encoded data removed]",
      "text/plain": [
       "<Figure size 288x252 with 1 Axes>"
      ]
     },
     "metadata": {},
     "output_type": "display_data"
    }
   ],
   "source": [
    "f0 = df.rent.median()\n",
    "fig, axes = plt.subplots(nrows=1, ncols=1, figsize=(4, 3.5), sharey=True)\n",
    "\n",
    "ax = axes\n",
    "line1, = ax.plot(df.sqfeet,df.rent,'o', linewidth=.8, markersize=4, label=\"$y$\")\n",
    "# fake a line to get smaller red dot\n",
    "line2, = ax.plot([0,0],[0,0], c='r', markersize=4, label=r\"$200 \\Delta_1({\\bf x})$\", linewidth=.8)\n",
    "ax.plot([df.sqfeet.min()-10,df.sqfeet.max()+10], [f0,f0],\n",
    "         linewidth=.8, linestyle='--', c='k')\n",
    "ax.set_xlim(df.sqfeet.min()-10,df.sqfeet.max()+10)\n",
    "ax.set_ylim(df.rent.min()-150, df.rent.max()+20)\n",
    "ax.text(800, f0+30, r\"$f_0({\\bf x})$\", fontsize=18)\n",
    "\n",
    "ax.arrow(880,f0-200, -20, 0, linewidth=.8, head_width=6, head_length=4)\n",
    "ax.text(883, f0-200-15, \"Oops!\", fontsize=12)\n",
    "\n",
    "ax.set_ylabel(r\"Rent ($y$)\", fontsize=14)\n",
    "ax.set_xlabel(r\"SqFeet (${\\bf x}$)\", fontsize=14)\n",
    "\n",
    "# draw arrows\n",
    "for x,y,yhat in zip(df.sqfeet,df.rent,df.F0):\n",
    "    draw_vector(ax, x, yhat, 0, (np.sign(y-yhat) if y-yhat>0 else -1)*200, df.rent.max()-df.rent.min())\n",
    "    \n",
    "ax.legend(handles=[line2], fontsize=16,\n",
    "          loc='upper left', \n",
    "          labelspacing=.1,\n",
    "          handletextpad=.2,\n",
    "          handlelength=.7,\n",
    "          frameon=True)\n",
    "\n",
    "plt.tight_layout()\n",
    "plt.show()"
   ]
  },
  {
   "cell_type": "markdown",
   "metadata": {},
   "source": [
    "## Using leaf-specific Weights"
   ]
  },
  {
   "cell_type": "code",
   "execution_count": 8,
   "metadata": {},
   "outputs": [
    {
     "data": {
      "text/plain": [
       "(100, 170)"
      ]
     },
     "execution_count": 8,
     "metadata": {},
     "output_type": "execute_result"
    }
   ],
   "source": [
    "# get left/right median to use as weights\n",
    "t1 = gbm.stumps[0]\n",
    "w1 = int(np.abs(t1.predict(t1.split-1)))\n",
    "w2 = int(np.abs(t1.predict(t1.split+1)))\n",
    "w1,w2"
   ]
  },
  {
   "cell_type": "code",
   "execution_count": 9,
   "metadata": {},
   "outputs": [
    {
     "data": {
      "image/png": "[encoded data removed]",
      "text/plain": [
       "<Figure size 288x252 with 1 Axes>"
      ]
     },
     "metadata": {},
     "output_type": "display_data"
    }
   ],
   "source": [
    "f0 = df.rent.median()\n",
    "fig, axes = plt.subplots(nrows=1, ncols=1, figsize=(4, 3.5), sharey=False)\n",
    "\n",
    "def draw_weights(ax,scale=0.03):\n",
    "    line1, = ax.plot(df.sqfeet,df.rent,'o', linewidth=.8, markersize=4, label=\"$y$\")\n",
    "    # fake a line to get smaller red dot\n",
    "    line2, = ax.plot([0,0],[0,0], c=bookcolors['red'], markersize=4, label=r\"$\"+str(w1)+r\"sign(y-f_0({\\bf x}))$\", linewidth=.8)\n",
    "    line3, = ax.plot([0,0],[0,0], c=bookcolors['red'], markersize=4, label=r\"$\"+str(w2)+r\"sign(y-f_0({\\bf x}))$\", linewidth=.8)\n",
    "    ax.plot([df.sqfeet.min()-10,df.sqfeet.max()+10], [f0,f0],\n",
    "             linewidth=.8, linestyle='--', c='k')\n",
    "    ax.set_xlim(df.sqfeet.min()-10,df.sqfeet.max()+10)\n",
    "    ax.text(800, f0+30, r\"$f_0({\\bf x})$\", fontsize=18)\n",
    "\n",
    "    ax.set_ylabel(r\"Rent\", fontsize=14)\n",
    "    ax.set_xlabel(r\"SqFeet\", fontsize=14)\n",
    "\n",
    "    draw_stage_residual(ax, df, 1, scale=scale)\n",
    "\n",
    "    ax.legend(handles=[line2,line3], fontsize=16,\n",
    "              loc='upper left', \n",
    "              labelspacing=.1,\n",
    "              handletextpad=.2,\n",
    "              handlelength=.7,\n",
    "              frameon=True)\n",
    "\n",
    "ax = axes\n",
    "draw_weights(ax)\n",
    "#draw_weights(axes[1], 0.005)\n",
    "\n",
    "ax.set_ylim(df.rent.min()-30, df.rent.max()+30)\n",
    "#axes[1].set_ylim(df.rent.min()-10, 1500)\n",
    "#axes[1].set_yticks([1150,1200,1250,1300])\n",
    "\n",
    "plt.tight_layout()\n",
    "plt.savefig('/tmp/s.svg')\n",
    "plt.show()"
   ]
  },
  {
   "cell_type": "code",
   "execution_count": 10,
   "metadata": {},
   "outputs": [
    {
     "data": {
      "image/png": "[encoded data removed]",
      "text/plain": [
       "<Figure size 360x273.6 with 1 Axes>"
      ]
     },
     "metadata": {},
     "output_type": "display_data"
    }
   ],
   "source": [
    "fig, ax = plt.subplots(nrows=1, ncols=1, figsize=(5,3.8))\n",
    "plot_stump(ax, df.sqfeet, df.res1, df.delta1, splits[0], stage=1)\n",
    "plt.tight_layout()\n",
    "plt.show()"
   ]
  },
  {
   "cell_type": "code",
   "execution_count": 11,
   "metadata": {},
   "outputs": [
    {
     "data": {
      "image/png": "[encoded data removed]",
      "text/plain": [
       "<Figure size 360x288 with 1 Axes>"
      ]
     },
     "metadata": {},
     "output_type": "display_data"
    }
   ],
   "source": [
    "fig, ax = plt.subplots(nrows=1, ncols=1, figsize=(5,4))\n",
    "\n",
    "plot_composite(ax, df, gbm, 1, eta=1.0, legend=False)\n",
    "\n",
    "ax.plot([df.sqfeet.min()-10,df.sqfeet.max()+10], [f0,f0],\n",
    "         linewidth=.8, linestyle=':', c='k')\n",
    "\n",
    "for x,d0,delta in zip(df.sqfeet,df[f'F0'],df[f'F1']):\n",
    "    draw_vector(ax, x, d0, 0, delta-d0, df.rent.max()-df.rent.min())\n",
    "\n",
    "ax.text(750, 1800, r\"$F_1 = f_0 + \\Delta_1({\\bf x}; {\\bf w}_1)$\", fontsize=18)\n",
    "ax.text(750, 1710, r\"${\\bf w}_1 = [\"+str(w1)+\",\"+str(w2)+\"]$\", fontsize=16)\n",
    "ax.text(910, f0-60, r\"$f_0({\\bf x})$\", fontsize=18)\n",
    "\n",
    "ax.set_ylabel(r\"Rent ($y$)\", fontsize=14)\n",
    "ax.set_xlabel(r\"SqFeet (${\\bf x}$)\", fontsize=14)\n",
    "ax.set_xlim(df.sqfeet.min()-10,df.sqfeet.max()+10)\n",
    "\n",
    "ax.text(800,1980, \"$\\Delta_1$ for $L_1$ ignores outlier\", fontsize=14)\n",
    "plt.tight_layout()\n",
    "\n",
    "plt.show()"
   ]
  },
  {
   "cell_type": "code",
   "execution_count": 12,
   "metadata": {},
   "outputs": [
    {
     "data": {
      "image/png": "[encoded data removed]",
      "text/plain": [
       "<Figure size 792x288 with 3 Axes>"
      ]
     },
     "metadata": {},
     "output_type": "display_data"
    }
   ],
   "source": [
    "fig, axes = plt.subplots(nrows=1, ncols=3, figsize=(11, 4), sharey=True)\n",
    "\n",
    "# PLOT 1\n",
    "\n",
    "ax = axes[0]\n",
    "f0 = df.rent.median()\n",
    "line1, = ax.plot(df.sqfeet,df.rent,'o', linewidth=.8, markersize=4, label=\"$y$\")\n",
    "draw_stage_residual(ax, df, stage=1)\n",
    "# fake a line to get smaller red dot\n",
    "line2, = ax.plot(700,1000,linewidth=.8, c='r', markersize=4)\n",
    "ax.plot([df.sqfeet.min()-10,df.sqfeet.max()+10], [f0,f0],\n",
    "         linewidth=.8, linestyle='--', c='k')\n",
    "ax.text(815, f0+10, r\"$f_0({\\bf x})$\", fontsize=18)\n",
    "ax.set_xlim(df.sqfeet.min()-10,df.sqfeet.max()+10)\n",
    "ax.set_ylim(df.rent.min()-10, df.rent.max()+10)\n",
    "ax.set_xlabel(r\"SqFeet\", fontsize=14)\n",
    "ax.set_ylabel(r\"Rent\", fontsize=14)\n",
    "ax.legend(handles=[line2], fontsize=15,\n",
    "          loc='upper left', \n",
    "          labelspacing=.1,\n",
    "          handletextpad=.2,\n",
    "          handlelength=.7,\n",
    "          frameon=True,\n",
    "          labels=[\"$\\Delta_1({\\\\bf x})$\"])\n",
    "\n",
    "# PLOT 2\n",
    "\n",
    "ax = axes[1]\n",
    "line1, = ax.plot(df.sqfeet,df.rent,'o', linewidth=.8, markersize=4, label=\"$y$\")\n",
    "draw_stage_residual(ax, df, stage=2)\n",
    "# fake a line to get smaller red dot\n",
    "line2, = ax.plot(700,1000,linewidth=.8, c='r', markersize=4)\n",
    "ax.plot([df.sqfeet.min()-10,df.sqfeet.max()+10], [f0,f0],\n",
    "         linewidth=.8, linestyle='--', c='k')\n",
    "ax.text(815, f0+10, r\"$f_0({\\bf x})$\", fontsize=18)\n",
    "ax.set_xlim(df.sqfeet.min()-10,df.sqfeet.max()+10)\n",
    "ax.set_ylim(df.rent.min()-10, df.rent.max()+10)\n",
    "ax.set_xlabel(r\"SqFeet\", fontsize=14)\n",
    "ax.legend(handles=[line2], fontsize=15,\n",
    "          loc='upper left', \n",
    "          labelspacing=.1,\n",
    "          handletextpad=.2,\n",
    "          handlelength=.7,\n",
    "          frameon=True,\n",
    "          labels=[\"$\\Delta_2({\\\\bf x})$\"])\n",
    "\n",
    "# PLOT 3\n",
    "\n",
    "ax = axes[2]\n",
    "line1, = ax.plot(df.sqfeet,df.rent,'o', linewidth=.8, markersize=4, label=\"$y$\")\n",
    "draw_stage_residual(ax, df, stage=3)\n",
    "# fake a line to get smaller red dot\n",
    "line2, = ax.plot(700,1000,linewidth=.8, c='r', markersize=4)\n",
    "ax.plot([df.sqfeet.min()-10,df.sqfeet.max()+10], [f0,f0],\n",
    "         linewidth=.8, linestyle='--', c='k')\n",
    "ax.text(815, f0+10, r\"$f_0({\\bf x})$\", fontsize=18)\n",
    "ax.set_xlim(df.sqfeet.min()-10,df.sqfeet.max()+10)\n",
    "ax.set_ylim(df.rent.min()-10, df.rent.max()+10)\n",
    "ax.set_xlabel(r\"SqFeet\", fontsize=14)\n",
    "ax.legend(handles=[line2], fontsize=15,\n",
    "          loc='upper left', \n",
    "          labelspacing=.1,\n",
    "          handletextpad=.2,\n",
    "          handlelength=.7,\n",
    "          frameon=True,\n",
    "          labels=[\"$\\Delta_3({\\\\bf x})$\"])\n",
    "\n",
    "plt.tight_layout()\n",
    "plt.savefig('/tmp/s.svg')\n",
    "plt.show()"
   ]
  },
  {
   "cell_type": "code",
   "execution_count": 13,
   "metadata": {},
   "outputs": [
    {
     "data": {
      "image/png": "[encoded data removed]",
      "text/plain": [
       "<Figure size 720x252 with 3 Axes>"
      ]
     },
     "metadata": {},
     "output_type": "display_data"
    }
   ],
   "source": [
    "fig, axes = plt.subplots(nrows=1, ncols=3, figsize=(10, 3.5), sharey=True)\n",
    "\n",
    "axes[0].set_ylabel(r\"$y-\\hat y$\", fontsize=20)\n",
    "for a in range(3):\n",
    "    axes[a].set_xlabel(r\"SqFeet\", fontsize=14)\n",
    "    axes[a].set_xlim(df.sqfeet.min()-10,df.sqfeet.max()+10)\n",
    "\n",
    "plot_stump(axes[0], df.sqfeet, df.res1, df.delta1, splits[0], stage=1)\n",
    "\n",
    "plot_stump(axes[1], df.sqfeet, df.res2, df.delta2, splits[1], stage=2)\n",
    "\n",
    "plot_stump(axes[2], df.sqfeet, df.res3, df.delta3, splits[2], stage=3)\n",
    "\n",
    "plt.tight_layout()\n",
    "        \n",
    "plt.savefig('/tmp/t.svg')\n",
    "plt.show()"
   ]
  },
  {
   "cell_type": "markdown",
   "metadata": {},
   "source": [
    "## Show model stages"
   ]
  },
  {
   "cell_type": "code",
   "execution_count": 14,
   "metadata": {},
   "outputs": [
    {
     "data": {
      "text/html": [
       "<div>\n",
       "<style scoped>\n",
       "    .dataframe tbody tr th:only-of-type {\n",
       "        vertical-align: middle;\n",
       "    }\n",
       "\n",
       "    .dataframe tbody tr th {\n",
       "        vertical-align: top;\n",
       "    }\n",
       "\n",
       "    .dataframe thead th {\n",
       "        text-align: right;\n",
       "    }\n",
       "</style>\n",
       "<table border=\"1\" class=\"dataframe\">\n",
       "  <thead>\n",
       "    <tr style=\"text-align: right;\">\n",
       "      <th></th>\n",
       "      <th>sqfeet</th>\n",
       "      <th>rent</th>\n",
       "      <th>F0</th>\n",
       "      <th>delta1</th>\n",
       "      <th>delta2</th>\n",
       "      <th>delta3</th>\n",
       "      <th>deltas</th>\n",
       "      <th>deltas12</th>\n",
       "      <th>deltas123</th>\n",
       "    </tr>\n",
       "  </thead>\n",
       "  <tbody>\n",
       "    <tr>\n",
       "      <th>0</th>\n",
       "      <td>750</td>\n",
       "      <td>1160</td>\n",
       "      <td>1280.0</td>\n",
       "      <td>-100.0</td>\n",
       "      <td>-20.0</td>\n",
       "      <td>-5.0</td>\n",
       "      <td>-87.5</td>\n",
       "      <td>-84.0</td>\n",
       "      <td>-87.5</td>\n",
       "    </tr>\n",
       "    <tr>\n",
       "      <th>1</th>\n",
       "      <td>800</td>\n",
       "      <td>1200</td>\n",
       "      <td>1280.0</td>\n",
       "      <td>-100.0</td>\n",
       "      <td>10.0</td>\n",
       "      <td>-5.0</td>\n",
       "      <td>-66.5</td>\n",
       "      <td>-63.0</td>\n",
       "      <td>-66.5</td>\n",
       "    </tr>\n",
       "    <tr>\n",
       "      <th>2</th>\n",
       "      <td>850</td>\n",
       "      <td>1280</td>\n",
       "      <td>1280.0</td>\n",
       "      <td>170.0</td>\n",
       "      <td>10.0</td>\n",
       "      <td>-5.0</td>\n",
       "      <td>122.5</td>\n",
       "      <td>126.0</td>\n",
       "      <td>122.5</td>\n",
       "    </tr>\n",
       "    <tr>\n",
       "      <th>3</th>\n",
       "      <td>900</td>\n",
       "      <td>1450</td>\n",
       "      <td>1280.0</td>\n",
       "      <td>170.0</td>\n",
       "      <td>10.0</td>\n",
       "      <td>-5.0</td>\n",
       "      <td>122.5</td>\n",
       "      <td>126.0</td>\n",
       "      <td>122.5</td>\n",
       "    </tr>\n",
       "    <tr>\n",
       "      <th>4</th>\n",
       "      <td>950</td>\n",
       "      <td>2000</td>\n",
       "      <td>1280.0</td>\n",
       "      <td>170.0</td>\n",
       "      <td>10.0</td>\n",
       "      <td>540.0</td>\n",
       "      <td>504.0</td>\n",
       "      <td>126.0</td>\n",
       "      <td>504.0</td>\n",
       "    </tr>\n",
       "  </tbody>\n",
       "</table>\n",
       "</div>"
      ],
      "text/plain": [
       "   sqfeet  rent      F0  delta1  delta2  delta3  deltas  deltas12  deltas123\n",
       "0     750  1160  1280.0  -100.0   -20.0    -5.0   -87.5     -84.0      -87.5\n",
       "1     800  1200  1280.0  -100.0    10.0    -5.0   -66.5     -63.0      -66.5\n",
       "2     850  1280  1280.0   170.0    10.0    -5.0   122.5     126.0      122.5\n",
       "3     900  1450  1280.0   170.0    10.0    -5.0   122.5     126.0      122.5\n",
       "4     950  2000  1280.0   170.0    10.0   540.0   504.0     126.0      504.0"
      ]
     },
     "execution_count": 14,
     "metadata": {},
     "output_type": "execute_result"
    }
   ],
   "source": [
    "df = data()\n",
    "eta = 1\n",
    "M = 3\n",
    "gbm = l1boost(df, 'rent', eta, M)\n",
    "df['deltas12'] = 0.7 * df[['delta1','delta2']].sum(axis=1)\n",
    "df['deltas123'] = 0.7 * df[['delta1','delta2','delta3']].sum(axis=1)\n",
    "df['deltas'] = 0.7 * df[['delta1','delta2','delta3']].sum(axis=1) # sum deltas\n",
    "\n",
    "df[['sqfeet','rent','F0','delta1','delta2','delta3','deltas','deltas12','deltas123']]"
   ]
  },
  {
   "cell_type": "code",
   "execution_count": 15,
   "metadata": {},
   "outputs": [
    {
     "data": {
      "image/png": "[encoded data removed]",
      "text/plain": [
       "<Figure size 799.2x252 with 3 Axes>"
      ]
     },
     "metadata": {},
     "output_type": "display_data"
    }
   ],
   "source": [
    "fig, axes = plt.subplots(nrows=1, ncols=3, figsize=(11.1, 3.5), sharey=True)\n",
    "\n",
    "axes[0].set_ylabel(r\"Rent\", fontsize=14)\n",
    "for a in range(3):\n",
    "    axes[a].set_xlabel(r\"SqFeet\", fontsize=14)\n",
    "    axes[a].set_xlim(df.sqfeet.min()-10,df.sqfeet.max()+10)\n",
    "\n",
    "plot_composite(axes[0], df, gbm, 1)\n",
    "plot_composite(axes[1], df, gbm, 2)\n",
    "plot_composite(axes[2], df, gbm, 3)\n",
    "\n",
    "plt.tight_layout()\n",
    "plt.savefig('/tmp/u.svg')\n",
    "plt.show()"
   ]
  }
 ],
 "metadata": {
  "kernelspec": {
   "display_name": "Python 3",
   "language": "python",
   "name": "python3"
  },
  "language_info": {
   "codemirror_mode": {
    "name": "ipython",
    "version": 3
   },
   "file_extension": ".py",
   "mimetype": "text/x-python",
   "name": "python",
   "nbconvert_exporter": "python",
   "pygments_lexer": "ipython3",
   "version": "3.6.5"
  }
 },
 "nbformat": 4,
 "nbformat_minor": 2
}
